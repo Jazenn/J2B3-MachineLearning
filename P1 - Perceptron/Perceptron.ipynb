{
 "cells": [
  {
   "cell_type": "code",
   "execution_count": 306,
   "id": "3588a161",
   "metadata": {},
   "outputs": [],
   "source": [
    "# Import libraries\n",
    "from itertools import product"
   ]
  },
  {
   "cell_type": "code",
   "execution_count": 307,
   "id": "06d5c14d",
   "metadata": {},
   "outputs": [],
   "source": [
    "class Perceptron:\n",
    "    def __init__(self, weights: list, bias: int) -> None:\n",
    "        self.input = []\n",
    "        self.weights = weights\n",
    "        self.bias = bias\n",
    "        self.firing = 0\n",
    "        self.weighted_sum = 0\n",
    "\n",
    "    def activation(self, input: list):\n",
    "        self.input = input\n",
    "        for i in range(len(input)):\n",
    "            self.weighted_sum += self.input[i] * self.weights[i]\n",
    "        self.weighted_sum += self.bias\n",
    "\n",
    "        if self.weighted_sum >= 0:\n",
    "            self.firing = 1\n",
    "        else:\n",
    "            self.firing = 0\n",
    "\n",
    "    def reset(self):\n",
    "        self.input = []\n",
    "        self.firing = 0\n",
    "        self.weighted_sum = 0\n",
    "        \n",
    "    def __str__(self) -> str:\n",
    "        return f\"| {self.input} | {self.firing} |\"\n",
    "        "
   ]
  },
  {
   "cell_type": "code",
   "execution_count": 308,
   "id": "a9c326f1",
   "metadata": {},
   "outputs": [
    {
     "name": "stdout",
     "output_type": "stream",
     "text": [
      "| [0] | 1 | \n",
      "\n",
      "| [1] | 0 |\n"
     ]
    }
   ],
   "source": [
    "# INVERT GATE\n",
    "p_inv = Perceptron([-1], 0)\n",
    "\n",
    "p_inv.activation([0])\n",
    "print(p_inv, \"\\n\")\n",
    "p_inv.reset()\n",
    "\n",
    "p_inv.activation([1])\n",
    "print(p_inv)"
   ]
  },
  {
   "cell_type": "code",
   "execution_count": 309,
   "id": "5054c2b1",
   "metadata": {},
   "outputs": [],
   "source": [
    "combinations = list(product([0, 1], repeat=2))"
   ]
  },
  {
   "cell_type": "code",
   "execution_count": 310,
   "id": "c0adf876",
   "metadata": {},
   "outputs": [
    {
     "name": "stdout",
     "output_type": "stream",
     "text": [
      "| (0, 0) | 0 | \n",
      "\n",
      "| (0, 1) | 1 | \n",
      "\n",
      "| (1, 0) | 1 | \n",
      "\n",
      "| (1, 1) | 1 | \n",
      "\n"
     ]
    }
   ],
   "source": [
    "# OR GATE\n",
    "\n",
    "p_or = Perceptron([1, 1], -1)\n",
    "for comb in combinations:\n",
    "    p_or.activation(comb)\n",
    "    print(p_or, \"\\n\")\n",
    "    p_or.reset()"
   ]
  },
  {
   "cell_type": "code",
   "execution_count": 311,
   "id": "81a56c37",
   "metadata": {},
   "outputs": [
    {
     "name": "stdout",
     "output_type": "stream",
     "text": [
      "| (0, 0) | 0 | \n",
      "\n",
      "| (0, 1) | 0 | \n",
      "\n",
      "| (1, 0) | 0 | \n",
      "\n",
      "| (1, 1) | 1 | \n",
      "\n"
     ]
    }
   ],
   "source": [
    "# AND GATE\n",
    "\n",
    "p_and = Perceptron([1, 1], -1.5)\n",
    "for comb in combinations:\n",
    "    p_and.activation(comb)\n",
    "    print(p_and, \"\\n\")\n",
    "    p_and.reset()"
   ]
  },
  {
   "cell_type": "code",
   "execution_count": 312,
   "id": "ef1adf8a",
   "metadata": {},
   "outputs": [],
   "source": [
    "combinations = list(product([0, 1], repeat=3))"
   ]
  },
  {
   "cell_type": "code",
   "execution_count": 313,
   "id": "067b53cb",
   "metadata": {},
   "outputs": [
    {
     "name": "stdout",
     "output_type": "stream",
     "text": [
      "| (0, 0, 0) | 1 |\n",
      "| (0, 0, 1) | 0 |\n",
      "| (0, 1, 0) | 0 |\n",
      "| (0, 1, 1) | 0 |\n",
      "| (1, 0, 0) | 0 |\n",
      "| (1, 0, 1) | 0 |\n",
      "| (1, 1, 0) | 0 |\n",
      "| (1, 1, 1) | 0 |\n"
     ]
    }
   ],
   "source": [
    "# NOR GATE\n",
    "\n",
    "p_not = Perceptron([-1, -1, -1], 0)\n",
    "for comb in combinations:\n",
    "    p_not.activation(comb)\n",
    "    print(p_not)\n",
    "    p_not.reset()"
   ]
  },
  {
   "cell_type": "code",
   "execution_count": 314,
   "id": "ff6ed09e",
   "metadata": {},
   "outputs": [
    {
     "name": "stdout",
     "output_type": "stream",
     "text": [
      "| (0, 0, 0) | 0 |\n",
      "| (0, 0, 1) | 0 |\n",
      "| (0, 1, 0) | 0 |\n",
      "| (0, 1, 1) | 1 |\n",
      "| (1, 0, 0) | 1 |\n",
      "| (1, 0, 1) | 1 |\n",
      "| (1, 1, 0) | 1 |\n",
      "| (1, 1, 1) | 1 |\n"
     ]
    }
   ],
   "source": [
    "# PARTY GATE\n",
    "\n",
    "p_not = Perceptron([0.6,0.3,0.2], -0.4)\n",
    "for comb in combinations:\n",
    "    p_not.activation(comb)\n",
    "    print(p_not)\n",
    "    p_not.reset()"
   ]
  },
  {
   "cell_type": "code",
   "execution_count": 315,
   "id": "87b06817",
   "metadata": {},
   "outputs": [],
   "source": [
    "class PerceptronLayer:\n",
    "    def __init__(self, perceptrons: list) -> None:\n",
    "        self.perceptrons = perceptrons\n",
    "        self.input = []\n",
    "        self.output = []\n",
    "\n",
    "    def activation(self, input: list):\n",
    "        self.input = input\n",
    "        for p in self.perceptrons:\n",
    "            p.activation(self.input)\n",
    "            self.output.append(p.firing)\n",
    "\n",
    "    def reset(self):\n",
    "        self.output = []\n",
    "        for p in self.perceptrons:\n",
    "            p.reset()\n",
    "\n",
    "    def __str__(self):\n",
    "        return f\"| {self.input} | {self.output} |\""
   ]
  },
  {
   "cell_type": "code",
   "execution_count": 316,
   "id": "6a36ba68",
   "metadata": {},
   "outputs": [
    {
     "name": "stdout",
     "output_type": "stream",
     "text": [
      "| [4, 5, 6] | [0, 1] |\n"
     ]
    }
   ],
   "source": [
    "# TEST PERCEPTRON LAYER\n",
    "\n",
    "p1 = Perceptron([0.1, 0.2, 0.3], -5)\n",
    "p2 = Perceptron([0.3, 0.2, 0.1], 0)\n",
    "\n",
    "pl1 = PerceptronLayer([p1, p2])\n",
    "pl1.activation([4, 5, 6])\n",
    "print(pl1)\n",
    "pl1.reset()"
   ]
  },
  {
   "cell_type": "code",
   "execution_count": 317,
   "id": "c5ef0a02",
   "metadata": {},
   "outputs": [],
   "source": [
    "class PerceptronNetwork:\n",
    "    def __init__(self, perceptron_layers: list) -> None:\n",
    "        self.input = []\n",
    "        self.output = []\n",
    "        self.firing = 0\n",
    "        self.perceptron_layers = perceptron_layers\n",
    "\n",
    "    def activation(self, input: list):\n",
    "        self.input = input\n",
    "        self.output = input\n",
    "        \n",
    "        for pl in self.perceptron_layers:\n",
    "            pl.activation(self.output)\n",
    "            self.output = pl.output\n",
    "\n",
    "    def reset(self):\n",
    "        for pl in self.perceptron_layers:\n",
    "            pl.reset()\n",
    "\n",
    "    def __str__(self) -> str:\n",
    "        return f\"| {self.input} | {self.output} |\""
   ]
  },
  {
   "cell_type": "code",
   "execution_count": 319,
   "id": "d9b5f4c9",
   "metadata": {},
   "outputs": [],
   "source": [
    "combinations = list(product([0, 1], repeat=2))"
   ]
  },
  {
   "cell_type": "code",
   "execution_count": 320,
   "id": "c55addfb",
   "metadata": {},
   "outputs": [
    {
     "name": "stdout",
     "output_type": "stream",
     "text": [
      "| (0, 0) | [0] |\n",
      "| (0, 1) | [1] |\n",
      "| (1, 0) | [1] |\n",
      "| (1, 1) | [0] |\n"
     ]
    }
   ],
   "source": [
    "# XOR GATE\n",
    "\n",
    "p1 = Perceptron([1, 1], -1.5)\n",
    "p2 = Perceptron([1, 1], -0.5)\n",
    "\n",
    "pl1 = PerceptronLayer([p1, p2])\n",
    "\n",
    "p3 = Perceptron([-1, 1], -0.5)\n",
    "\n",
    "pl2 = PerceptronLayer([p3])\n",
    "\n",
    "pn1 = PerceptronNetwork([pl1, pl2])\n",
    "\n",
    "for comb in combinations:\n",
    "    pn1.activation(comb)\n",
    "    print(pn1)\n",
    "    pn1.reset()"
   ]
  },
  {
   "cell_type": "code",
   "execution_count": 321,
   "id": "ac389094",
   "metadata": {},
   "outputs": [
    {
     "name": "stdout",
     "output_type": "stream",
     "text": [
      "| (0, 0) | [0, 0] |\n",
      "| (0, 1) | [0, 1] |\n",
      "| (1, 0) | [0, 1] |\n",
      "| (1, 1) | [1, 0] |\n"
     ]
    }
   ],
   "source": [
    "# HALF ADDER GATE\n",
    "p1 = Perceptron([1, 1], -1.5)\n",
    "p2 = Perceptron([1, 1], -1.5)\n",
    "p3 = Perceptron([1, 1], -0.5)\n",
    "\n",
    "pl1 = PerceptronLayer([p1, p2, p3])\n",
    "\n",
    "p4 = Perceptron([1, 0, 0], -0.5)\n",
    "p5 = Perceptron([0, -1, 1], -0.5)\n",
    "\n",
    "pl2 = PerceptronLayer([p4, p5])\n",
    "\n",
    "\n",
    "\n",
    "pn1 = PerceptronNetwork([pl1, pl2])\n",
    "\n",
    "for comb in combinations:\n",
    "    pn1.activation(comb)\n",
    "    print(pn1)\n",
    "    pn1.reset()"
   ]
  }
 ],
 "metadata": {
  "kernelspec": {
   "display_name": "Python 3 (ipykernel)",
   "language": "python",
   "name": "python3"
  },
  "language_info": {
   "codemirror_mode": {
    "name": "ipython",
    "version": 3
   },
   "file_extension": ".py",
   "mimetype": "text/x-python",
   "name": "python",
   "nbconvert_exporter": "python",
   "pygments_lexer": "ipython3",
   "version": "3.10.13"
  }
 },
 "nbformat": 4,
 "nbformat_minor": 5
}
