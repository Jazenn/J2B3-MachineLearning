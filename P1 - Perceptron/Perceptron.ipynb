{
 "cells": [
  {
   "cell_type": "code",
   "execution_count": 44,
   "id": "3588a161",
   "metadata": {},
   "outputs": [],
   "source": [
    "# Import libraries\n",
    "from itertools import product"
   ]
  },
  {
   "cell_type": "code",
   "execution_count": 47,
   "id": "06d5c14d",
   "metadata": {},
   "outputs": [],
   "source": [
    "class Perceptron:\n",
    "    def __init__(self, weights: list, threshold: int) -> None:\n",
    "        self.threshold = threshold\n",
    "        self.input = []\n",
    "        self.weights = weights\n",
    "        self.bias = -self.threshold\n",
    "        self.firing = 0\n",
    "        self.weighted_sum = 0\n",
    "\n",
    "    def activation(self, input: list):\n",
    "        self.input = input\n",
    "        for i in range(len(input)):\n",
    "            self.weighted_sum += input[i] * self.weights[i]\n",
    "        self.weighted_sum += self.bias\n",
    "\n",
    "        if self.weighted_sum >= self.threshold:\n",
    "            self.firing = 1\n",
    "        else:\n",
    "            self.firing = 0\n",
    "        \n",
    "    def __str__(self) -> str:\n",
    "        return f\" Input: {self.input} \\n Weights: {self.weights} \\n Bias: {self.bias} \\n Threshold: {self.threshold} \\n Weighted sum: {self.weighted_sum} \\n Firing: {self.firing}\"\n",
    "        "
   ]
  },
  {
   "cell_type": "code",
   "execution_count": 48,
   "id": "e1632dd9",
   "metadata": {},
   "outputs": [
    {
     "name": "stdout",
     "output_type": "stream",
     "text": [
      " Input: [1, 2, 3, 4, 5] \n",
      " Weights: [0.1, 0.4, 0.2, 0.6, 0.1] \n",
      " Bias: -10 \n",
      " Threshold: 10 \n",
      " Weighted sum: -5.6 \n",
      " Firing: 0\n"
     ]
    }
   ],
   "source": [
    "p1 = Perceptron([0.1, 0.4, 0.2, 0.6, 0.1], 10)\n",
    "\n",
    "p1.activation([1, 2, 3, 4, 5])\n",
    "print(p1)"
   ]
  },
  {
   "cell_type": "code",
   "execution_count": 50,
   "id": "a9c326f1",
   "metadata": {},
   "outputs": [
    {
     "name": "stdout",
     "output_type": "stream",
     "text": [
      " Input: [0] \n",
      " Weights: [-1] \n",
      " Bias: 0 \n",
      " Threshold: 0 \n",
      " Weighted sum: 0 \n",
      " Firing: 1 \n",
      "\n",
      " Input: [1] \n",
      " Weights: [-1] \n",
      " Bias: 0 \n",
      " Threshold: 0 \n",
      " Weighted sum: -1 \n",
      " Firing: 0\n"
     ]
    }
   ],
   "source": [
    "# INVERT GATE\n",
    "p_inv = Perceptron([-1], 0)\n",
    "\n",
    "p_inv.activation([0])\n",
    "print(p_inv, \"\\n\")\n",
    "\n",
    "p_inv.activation([1])\n",
    "print(p_inv)"
   ]
  },
  {
   "cell_type": "code",
   "execution_count": 43,
   "id": "5054c2b1",
   "metadata": {},
   "outputs": [
    {
     "name": "stdout",
     "output_type": "stream",
     "text": [
      "[(0, 0), (0, 1), (1, 0), (1, 1)]\n"
     ]
    }
   ],
   "source": [
    "combinations = list(product([0, 1], repeat=2))"
   ]
  },
  {
   "cell_type": "code",
   "execution_count": 51,
   "id": "c0adf876",
   "metadata": {},
   "outputs": [
    {
     "name": "stdout",
     "output_type": "stream",
     "text": [
      " Input: (0, 0) \n",
      " Weights: [1, 1] \n",
      " Bias: -1 \n",
      " Threshold: 1 \n",
      " Weighted sum: -1 \n",
      " Firing: 0 \n",
      "\n",
      " Input: (0, 1) \n",
      " Weights: [1, 1] \n",
      " Bias: -1 \n",
      " Threshold: 1 \n",
      " Weighted sum: -1 \n",
      " Firing: 0 \n",
      "\n",
      " Input: (1, 0) \n",
      " Weights: [1, 1] \n",
      " Bias: -1 \n",
      " Threshold: 1 \n",
      " Weighted sum: -1 \n",
      " Firing: 0 \n",
      "\n",
      " Input: (1, 1) \n",
      " Weights: [1, 1] \n",
      " Bias: -1 \n",
      " Threshold: 1 \n",
      " Weighted sum: 0 \n",
      " Firing: 0 \n",
      "\n"
     ]
    }
   ],
   "source": [
    "# OR GATE\n",
    "\n",
    "p_or = Perceptron([1, 1], 1)\n",
    "for comb in combinations:\n",
    "    p_or.activation(comb)\n",
    "    print(p_or, \"\\n\")"
   ]
  },
  {
   "cell_type": "code",
   "execution_count": 73,
   "id": "87b06817",
   "metadata": {},
   "outputs": [],
   "source": [
    "class PerceptronLayer:\n",
    "    def __init__(self, perceptrons: list) -> None:\n",
    "        self.perceptrons = perceptrons\n",
    "        self.input = []\n",
    "        self.output = []\n",
    "\n",
    "    def activation(self, input: list):\n",
    "        self.input = input\n",
    "        for p in self.perceptrons:\n",
    "            p.activation(self.input)\n",
    "            self.output.append(p.firing)\n",
    "\n",
    "    def __str__(self):\n",
    "        print(f\" Input: {self.input} \\n Output: {self.output} \\n\\n Perceptrons: \\n\")\n",
    "        for p in self.perceptrons:\n",
    "            print(p, \"\\n\")\n",
    "        return \"\""
   ]
  },
  {
   "cell_type": "code",
   "execution_count": 74,
   "id": "6a36ba68",
   "metadata": {},
   "outputs": [
    {
     "name": "stdout",
     "output_type": "stream",
     "text": [
      " Input: [4, 5, 6] \n",
      " Output: [0, 1] \n",
      "\n",
      " Perceptrons: \n",
      "\n",
      " Input: [4, 5, 6] \n",
      " Weights: [0.1, 0.2, 0.3] \n",
      " Bias: -5 \n",
      " Threshold: 5 \n",
      " Weighted sum: -1.8000000000000003 \n",
      " Firing: 0 \n",
      "\n",
      " Input: [4, 5, 6] \n",
      " Weights: [0.3, 0.2, 0.1] \n",
      " Bias: 0 \n",
      " Threshold: 0 \n",
      " Weighted sum: 2.8000000000000003 \n",
      " Firing: 1 \n",
      "\n",
      "\n"
     ]
    }
   ],
   "source": [
    "p1 = Perceptron([0.1, 0.2, 0.3], 5)\n",
    "p2 = Perceptron([0.3, 0.2, 0.1], 0)\n",
    "\n",
    "pl1 = PerceptronLayer([p1, p2])\n",
    "pl1.activation([4, 5, 6])\n",
    "print(pl1)"
   ]
  }
 ],
 "metadata": {
  "kernelspec": {
   "display_name": "Python 3 (ipykernel)",
   "language": "python",
   "name": "python3"
  },
  "language_info": {
   "codemirror_mode": {
    "name": "ipython",
    "version": 3
   },
   "file_extension": ".py",
   "mimetype": "text/x-python",
   "name": "python",
   "nbconvert_exporter": "python",
   "pygments_lexer": "ipython3",
   "version": "3.10.13"
  }
 },
 "nbformat": 4,
 "nbformat_minor": 5
}
